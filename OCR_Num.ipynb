{
 "cells": [
  {
   "cell_type": "code",
   "execution_count": 42,
   "id": "2d7b252c",
   "metadata": {},
   "outputs": [],
   "source": [
    "import numpy as np\n",
    "import matplotlib.pyplot as plt\n",
    "import torch\n",
    "import sys\n",
    "import os\n",
    "import math\n",
    "import cv2\n",
    "from scipy.optimize import minimize,fmin_l_bfgs_b\n",
    "from torch.autograd import grad\n",
    "use_cuda = 1\n",
    "torchdeviceId = torch.device('cuda:0') if use_cuda else 'cpu'\n",
    "torchdtype = torch.float32"
   ]
  },
  {
   "cell_type": "code",
   "execution_count": 3,
   "id": "1bdb138b",
   "metadata": {},
   "outputs": [],
   "source": [
    "path = \"G:\\\\Host\\\\DataSet\\\\\""
   ]
  },
  {
   "cell_type": "code",
   "execution_count": 4,
   "id": "b5f0440b",
   "metadata": {},
   "outputs": [],
   "source": [
    "W = (torch.ones(10, 2401)/40/60).to(dtype=torchdtype, device=torchdeviceId)"
   ]
  },
  {
   "cell_type": "code",
   "execution_count": 5,
   "id": "54f4def1",
   "metadata": {},
   "outputs": [],
   "source": [
    "# 求样本数\n",
    "imgNum_list = []\n",
    "for i in range(10):\n",
    "    filePath = path + str(i) + \"\\\\\"\n",
    "    nameList = os.listdir(filePath)\n",
    "    imgNum_list.append(len(nameList))  #样本数\n",
    "imgNum = sum(imgNum_list)"
   ]
  },
  {
   "cell_type": "code",
   "execution_count": 6,
   "id": "2971dd27",
   "metadata": {},
   "outputs": [],
   "source": [
    "# 求x矩阵，大小为(imgNum,2401)，每一行为[1,img(0,0),img(0,1),...,img(39,59)]\n",
    "X = torch.ones(imgNum, 2401).to(dtype=torchdtype, device=torchdeviceId)\n",
    "for i in range(10):\n",
    "    filePath = path + str(i) + \"\\\\\"\n",
    "    nameList = os.listdir(filePath)\n",
    "    for j in range(len(nameList)):\n",
    "        img = cv2.imread(filePath + nameList[j])\n",
    "        gray = cv2.cvtColor(img,cv2.COLOR_BGR2GRAY)\n",
    "        thresh,threshold=cv2.threshold(gray,80,255,cv2.THRESH_BINARY)\n",
    "        Temp = (threshold.reshape(1,40*60))/255\n",
    "        \n",
    "        index = sum(imgNum_list[0:i]) + j\n",
    "        X[index, 1:] = torch.from_numpy(Temp)"
   ]
  },
  {
   "cell_type": "code",
   "execution_count": 7,
   "id": "3cc15128",
   "metadata": {},
   "outputs": [],
   "source": [
    "# 求y矩阵，大小为(imgNum,10)，每一行为(y0,y1,...,y9)\n",
    "WX = torch.matmul(W, X.T)\n",
    "Y = torch.exp(WX).T\n",
    "Y = Y / Y.sum(dim=1).reshape(imgNum,1).repeat(1,10)"
   ]
  },
  {
   "cell_type": "code",
   "execution_count": 8,
   "id": "e88094ad",
   "metadata": {},
   "outputs": [],
   "source": [
    "# 求t矩阵，大小为(imgNum,10),如每一行为(1,0,...,0)\n",
    "T = torch.zeros(imgNum,10).to(dtype=torchdtype, device=torchdeviceId)\n",
    "for i in range(10):\n",
    "    T[sum(imgNum_list[0:i]):sum(imgNum_list[0:i+1]),i] = 1"
   ]
  },
  {
   "cell_type": "code",
   "execution_count": 9,
   "id": "75b5a2e2",
   "metadata": {},
   "outputs": [],
   "source": [
    "# 求损失函数Ew\n",
    "Ew = (-T*torch.log(Y)).sum()"
   ]
  },
  {
   "cell_type": "code",
   "execution_count": 10,
   "id": "fc502c2f",
   "metadata": {},
   "outputs": [],
   "source": [
    "# 求梯度矩阵g，大小为(10,2401)，如第一行为对ΔE(w0)\n",
    "G = torch.matmul(X.T,(Y - T))"
   ]
  },
  {
   "cell_type": "code",
   "execution_count": 11,
   "id": "b64832f0",
   "metadata": {},
   "outputs": [],
   "source": [
    "# 求Hessian矩阵h，大小为(10,10)，其中h(i,j)表示E(w)对wi求导再对wj求导\n",
    "FF = torch.matmul(X, X.T)\n",
    "FF = torch.diagonal(FF).repeat(10,1)\n",
    "H = torch.matmul(Y.T*FF, Y) - torch.ones(10,10).to(dtype=torchdtype, device=torchdeviceId)"
   ]
  },
  {
   "cell_type": "code",
   "execution_count": 12,
   "id": "2f8acf36",
   "metadata": {},
   "outputs": [],
   "source": [
    "# 求y矩阵，大小为(imgNum,10)，每一行为(y0,y1,...,y9)\n",
    "def GetY(W,X,imgNum):\n",
    "    WX = torch.matmul(W, X.T)\n",
    "    Y = torch.exp(WX).T\n",
    "    Y = Y / Y.sum(dim=1).reshape(imgNum,1).repeat(1,10)\n",
    "    return Y\n",
    "    \n",
    "# 求t矩阵，大小为(imgNum,10),如每一行为(1,0,...,0)\n",
    "def GetT(imgNum, imgNum_list):\n",
    "    T = torch.zeros(imgNum,10).to(dtype=torchdtype, device=torchdeviceId)\n",
    "    for i in range(10):\n",
    "        T[sum(imgNum_list[0:i]):sum(imgNum_list[0:i+1]),i] = 1\n",
    "    return T\n",
    "\n",
    "# 求损失函数值Ew\n",
    "def GetEw(Y,T):\n",
    "    Ew = (-T*torch.log(Y)).sum() \n",
    "    return Ew\n",
    "\n",
    "# 求梯度矩阵g，大小为(10,2401)，如第一行为对ΔE(w0)\n",
    "def GetGrad(X,T,Y):\n",
    "    G = torch.matmul(X.T,(Y - T))\n",
    "    return G\n",
    "\n",
    "# 求Hessian矩阵h，大小为(10,10)，其中h(i,j)表示E(w)对wi求导再对wj求导\n",
    "def GetHessian(X,Y):\n",
    "    FF = torch.matmul(X, X.T)\n",
    "    FF = torch.diagonal(FF).repeat(10,1)\n",
    "    H = torch.matmul(Y.T*FF, Y) - torch.ones(10,10).to(dtype=torchdtype, device=torchdeviceId)\n",
    "    return H"
   ]
  },
  {
   "cell_type": "code",
   "execution_count": 71,
   "id": "37702107",
   "metadata": {},
   "outputs": [],
   "source": [
    "max_iter = 500000\n",
    "Ew_min = 1\n",
    "Ew_vec = []\n",
    "k = 1\n",
    "\n",
    "for i in range(max_iter):\n",
    "    Y = GetY(W, X, imgNum)\n",
    "    T = GetT(imgNum, imgNum_list)\n",
    "    Ew = GetEw(Y, T)\n",
    "    Ew_vec.append(Ew.cpu())\n",
    "    if(Ew<Ew_min):\n",
    "        break\n",
    "        \n",
    "    Grad = GetGrad(X, T, Y)\n",
    "    Hessian = GetHessian(X, Y)\n",
    "    Hessian = Hessian + k*torch.eye(10,10).to(dtype=torchdtype, device=torchdeviceId)*torch.diagonal(Hessian).max()\n",
    "    W = W - torch.matmul(Hessian.inverse(), Grad.T)"
   ]
  },
  {
   "cell_type": "code",
   "execution_count": 72,
   "id": "aa203808",
   "metadata": {
    "scrolled": true
   },
   "outputs": [
    {
     "data": {
      "text/plain": [
       "[<matplotlib.lines.Line2D at 0x20027d7c6c8>]"
      ]
     },
     "execution_count": 72,
     "metadata": {},
     "output_type": "execute_result"
    },
    {
     "data": {
      "image/png": "[encoded data removed]",
      "text/plain": [
       "<Figure size 640x480 with 1 Axes>"
      ]
     },
     "metadata": {},
     "output_type": "display_data"
    }
   ],
   "source": [
    "x = np.arange(len(Ew_vec))\n",
    "y = np.array(Ew_vec)\n",
    "plt.plot(x,y)"
   ]
  },
  {
   "cell_type": "code",
   "execution_count": 76,
   "id": "8740f537",
   "metadata": {},
   "outputs": [],
   "source": [
    "w = np.array(W.cpu())\n",
    "np.savetxt(\"w08310334.txt\", w, fmt=\"%lf\")"
   ]
  }
 ],
 "metadata": {
  "kernelspec": {
   "display_name": "Python [conda env:H21] *",
   "language": "python",
   "name": "conda-env-H21-py"
  },
  "language_info": {
   "codemirror_mode": {
    "name": "ipython",
    "version": 3
   },
   "file_extension": ".py",
   "mimetype": "text/x-python",
   "name": "python",
   "nbconvert_exporter": "python",
   "pygments_lexer": "ipython3",
   "version": "3.7.16"
  }
 },
 "nbformat": 4,
 "nbformat_minor": 5
}
